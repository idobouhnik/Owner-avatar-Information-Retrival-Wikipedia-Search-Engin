{
  "nbformat": 4,
  "nbformat_minor": 0,
  "metadata": {
    "colab": {
      "provenance": []
    },
    "kernelspec": {
      "name": "python3",
      "display_name": "Python 3"
    },
    "language_info": {
      "name": "python"
    }
  },
  "cells": [
    {
      "cell_type": "code",
      "source": [
        "# download nltk stopwords\n",
        "import nltk\n",
        "nltk.download('stopwords')"
      ],
      "metadata": {
        "id": "bCPDHP7zTQJZ",
        "colab": {
          "base_uri": "https://localhost:8080/"
        },
        "outputId": "3dc9ad0d-5623-441d-c756-f081b82f626e"
      },
      "execution_count": 1,
      "outputs": [
        {
          "output_type": "stream",
          "name": "stderr",
          "text": [
            "[nltk_data] Downloading package stopwords to /root/nltk_data...\n",
            "[nltk_data]   Unzipping corpora/stopwords.zip.\n"
          ]
        },
        {
          "output_type": "execute_result",
          "data": {
            "text/plain": [
              "True"
            ]
          },
          "metadata": {},
          "execution_count": 1
        }
      ]
    },
    {
      "cell_type": "code",
      "source": [
        "# Install a particular version of `google-cloud-storage` because (oddly enough)\n",
        "# the  version on Colab and GCP is old. A dependency error below is okay.\n",
        "!pip install -q google-cloud-storage==1.43.0"
      ],
      "metadata": {
        "id": "lAt6KT8xOgHH",
        "colab": {
          "base_uri": "https://localhost:8080/"
        },
        "outputId": "64ea4ffc-f1c9-4670-a636-2463a73c26da"
      },
      "execution_count": 2,
      "outputs": [
        {
          "output_type": "stream",
          "name": "stdout",
          "text": [
            "\u001b[?25l     \u001b[90m━━━━━━━━━━━━━━━━━━━━━━━━━━━━━━━━━━━━━━━━\u001b[0m \u001b[32m0.0/106.6 kB\u001b[0m \u001b[31m?\u001b[0m eta \u001b[36m-:--:--\u001b[0m\r\u001b[2K     \u001b[91m━━━━━━━━━━━\u001b[0m\u001b[91m╸\u001b[0m\u001b[90m━━━━━━━━━━━━━━━━━━━━━━━━━━━━\u001b[0m \u001b[32m30.7/106.6 kB\u001b[0m \u001b[31m971.5 kB/s\u001b[0m eta \u001b[36m0:00:01\u001b[0m\r\u001b[2K     \u001b[91m━━━━━━━━━━━━━━━━━━━━━━━━━━━━━━━━━━\u001b[0m\u001b[91m╸\u001b[0m\u001b[90m━━━━━\u001b[0m \u001b[32m92.2/106.6 kB\u001b[0m \u001b[31m1.3 MB/s\u001b[0m eta \u001b[36m0:00:01\u001b[0m\r\u001b[2K     \u001b[90m━━━━━━━━━━━━━━━━━━━━━━━━━━━━━━━━━━━━━━━━\u001b[0m \u001b[32m106.6/106.6 kB\u001b[0m \u001b[31m1.2 MB/s\u001b[0m eta \u001b[36m0:00:00\u001b[0m\n",
            "\u001b[?25h\u001b[31mERROR: pip's dependency resolver does not currently take into account all the packages that are installed. This behaviour is the source of the following dependency conflicts.\n",
            "bigframes 0.22.0 requires google-cloud-storage>=2.0.0, but you have google-cloud-storage 1.43.0 which is incompatible.\u001b[0m\u001b[31m\n",
            "\u001b[0m"
          ]
        }
      ]
    },
    {
      "cell_type": "code",
      "source": [
        "# authenticate below for Google Storage access as needed\n",
        "from google.colab import auth\n",
        "auth.authenticate_user()"
      ],
      "metadata": {
        "id": "-oKFly5jFLFn"
      },
      "execution_count": 3,
      "outputs": []
    },
    {
      "cell_type": "code",
      "source": [
        "!pip install pyngrok"
      ],
      "metadata": {
        "id": "Aeoj64DuuGbx",
        "colab": {
          "base_uri": "https://localhost:8080/"
        },
        "outputId": "fb3e0cb2-cf13-45ae-ee81-988e1b69832c"
      },
      "execution_count": 4,
      "outputs": [
        {
          "output_type": "stream",
          "name": "stdout",
          "text": [
            "Collecting pyngrok\n",
            "  Downloading pyngrok-7.1.4-py3-none-any.whl (22 kB)\n",
            "Requirement already satisfied: PyYAML>=5.1 in /usr/local/lib/python3.10/dist-packages (from pyngrok) (6.0.1)\n",
            "Installing collected packages: pyngrok\n",
            "Successfully installed pyngrok-7.1.4\n"
          ]
        }
      ]
    },
    {
      "cell_type": "code",
      "source": [
        "# TODO: sign up for an ngrok account\n",
        "# then put your ngrok token below and execute\n",
        "from pyngrok import ngrok\n",
        "# in ngrok.yml\n",
        "# authtoken: 2dKEqAWUID2C3fhYjzA9tIp4mCB_5jr2vvRv53XzDkTTkMrRj\n",
        "ngrok.set_auth_token(\"2dKEqAWUID2C3fhYjzA9tIp4mCB_5jr2vvRv53XzDkTTkMrRj\")"
      ],
      "metadata": {
        "id": "3E0IJAHOuDG1",
        "colab": {
          "base_uri": "https://localhost:8080/"
        },
        "outputId": "c11d820d-a9db-4faa-9e8f-e7d95842b20c"
      },
      "execution_count": 5,
      "outputs": [
        {
          "output_type": "stream",
          "name": "stdout",
          "text": []
        }
      ]
    },
    {
      "cell_type": "markdown",
      "source": [
        "# Run the app"
      ],
      "metadata": {
        "id": "6dW0y91OVu5J"
      }
    },
    {
      "cell_type": "code",
      "source": [
        "# you need to upload your implementation of search_app.py\n",
        "import search_frontend as se"
      ],
      "metadata": {
        "id": "7opNkV6uRHIv",
        "colab": {
          "base_uri": "https://localhost:8080/"
        },
        "outputId": "1bd7667a-c03f-438e-e8f2-db34293aa021"
      },
      "execution_count": 6,
      "outputs": [
        {
          "output_type": "stream",
          "name": "stderr",
          "text": [
            "[nltk_data] Downloading package stopwords to /root/nltk_data...\n",
            "[nltk_data]   Package stopwords is already up-to-date!\n"
          ]
        }
      ]
    },
    {
      "cell_type": "code",
      "source": [
        "# uncomment the code below and execute to reload the module when you make\n",
        "# changes to search_frontend.py (after you upload again).\n",
        "# import importlib\n",
        "# importlib.reload(se)"
      ],
      "metadata": {
        "id": "oTGXXYEXV5l8"
      },
      "execution_count": null,
      "outputs": []
    },
    {
      "cell_type": "code",
      "source": [
        "public_url = ngrok.connect(\"5000\").public_url\n",
        "print(f\" * ngrok tunnel \\\"{public_url}\\\" -> \\\"http://127.0.0.1:5000\\\"\")\n",
        "# Update any base URLs to use the public ngrok URL\n",
        "se.app.config[\"BASE_URL\"] = public_url\n",
        "se.app.run()"
      ],
      "metadata": {
        "id": "J5n9u9rFP_wD",
        "colab": {
          "base_uri": "https://localhost:8080/"
        },
        "outputId": "53c336e6-595c-414b-c528-b1a45a27b402"
      },
      "execution_count": 7,
      "outputs": [
        {
          "output_type": "stream",
          "name": "stdout",
          "text": [
            " * ngrok tunnel \"https://8104-34-71-121-173.ngrok-free.app\" -> \"http://127.0.0.1:5000\"\n",
            " * Serving Flask app 'search_frontend'\n",
            " * Debug mode: off\n"
          ]
        },
        {
          "output_type": "stream",
          "name": "stderr",
          "text": [
            "INFO:werkzeug:\u001b[31m\u001b[1mWARNING: This is a development server. Do not use it in a production deployment. Use a production WSGI server instead.\u001b[0m\n",
            " * Running on http://127.0.0.1:5000\n",
            "INFO:werkzeug:\u001b[33mPress CTRL+C to quit\u001b[0m\n"
          ]
        }
      ]
    },
    {
      "cell_type": "markdown",
      "source": [
        "# Testing your app\n",
        "\n",
        "Once your app is running you can query it. You can simply do that by navigating to the URL that ngrok gave you above or through code in a different python session. For example, once the frontend app is running, you can navigate to:\n",
        "http://YOUR_SERVER_DOMAIN/search?query=hello+world where YOUR_SERVER_DOMAIN is something like XXXX-XX-XX-XX-XX.ngrok.io, which is printed above in Colab or that is your external IP on GCP.\n",
        "\n",
        "The code below shows how to issue a query from python. This is also how our testing code will issue queries to your search engine, so make sure to test your search engine this way after you deploy it to GCP and before submission. Command line instructions for deploying your search engine to GCP are available at `run_frontend_in_gcp.sh`. Note that we will not only issue training queries to your search engine, but also test queries, i.e. queries that you've never seen before."
      ],
      "metadata": {
        "id": "Na0MC_1nzDbi"
      }
    },
    {
      "cell_type": "code",
      "source": [
        "import json\n",
        "import json\n",
        "from sklearn.model_selection import KFold\n",
        "from sklearn.metrics import accuracy_score, precision_score, recall_score\n",
        "\n",
        "with open('queries_train.json', 'rt') as f:\n",
        "  queries = json.load(f)"
      ],
      "metadata": {
        "id": "EM5ePrRHojbG"
      },
      "execution_count": 8,
      "outputs": []
    },
    {
      "cell_type": "code",
      "source": [
        "def average_precision(true_list, predicted_list, k=40):\n",
        "    true_set = frozenset(true_list)\n",
        "    predicted_list = predicted_list[:k]\n",
        "    precisions = []\n",
        "    for i,doc_id in enumerate(predicted_list):\n",
        "        if doc_id in true_set:\n",
        "            prec = (len(precisions)+1) / (i+1)\n",
        "            precisions.append(prec)\n",
        "    if len(precisions) == 0:\n",
        "        return 0.0\n",
        "    return round(sum(precisions)/len(precisions),3)"
      ],
      "metadata": {
        "id": "gWimZWCOy3Ei"
      },
      "execution_count": 9,
      "outputs": []
    },
    {
      "cell_type": "code",
      "source": [
        "def precision_at_k(true_list, predicted_list, k):\n",
        "    true_set = frozenset(true_list)\n",
        "    predicted_list = predicted_list[:k]\n",
        "    if len(predicted_list) == 0:\n",
        "        return 0.0\n",
        "    return round(len([1 for doc_id in predicted_list if doc_id in true_set]) / len(predicted_list), 3)\n",
        "def recall_at_k(true_list, predicted_list, k):\n",
        "    true_set = frozenset(true_list)\n",
        "    predicted_list = predicted_list[:k]\n",
        "    if len(true_set) < 1:\n",
        "        return 1.0\n",
        "    return round(len([1 for doc_id in predicted_list if doc_id in true_set]) / len(true_set), 3)\n",
        "def f1_at_k(true_list, predicted_list, k):\n",
        "    p = precision_at_k(true_list, predicted_list, k)\n",
        "    r = recall_at_k(true_list, predicted_list, k)\n",
        "    if p == 0.0 or r == 0.0:\n",
        "        return 0.0\n",
        "    return round(2.0 / (1.0/p + 1.0/r), 3)\n",
        "def results_quality(true_list, predicted_list):\n",
        "    p5 = precision_at_k(true_list, predicted_list, 5)\n",
        "    f1_30 = f1_at_k(true_list, predicted_list, 30)\n",
        "    if p5 == 0.0 or f1_30 == 0.0:\n",
        "        return 0.0\n",
        "    return round(2.0 / (1.0/p5 + 1.0/f1_30), 3)\n",
        "\n",
        "assert precision_at_k(range(10), [1,2,3] , 2) == 1.0\n",
        "assert recall_at_k(   range(10), [10,5,3], 2) == 0.1\n",
        "assert precision_at_k(range(10), []      , 2) == 0.0\n",
        "assert precision_at_k([],        [1,2,3],  5) == 0.0\n",
        "assert recall_at_k(   [],        [10,5,3], 2) == 1.0\n",
        "assert recall_at_k(   range(10), [],       2) == 0.0\n",
        "assert f1_at_k(       [],        [1,2,3],  5) == 0.0\n",
        "assert f1_at_k(       range(10), [],       2) == 0.0\n",
        "assert f1_at_k(       range(10), [0,1,2],  2) == 0.333\n",
        "assert f1_at_k(       range(50), range(5), 30) == 0.182\n",
        "assert f1_at_k(       range(50), range(10), 30) == 0.333\n",
        "assert f1_at_k(       range(50), range(30), 30) == 0.75\n",
        "assert results_quality(range(50), range(5))  == 0.308\n",
        "assert results_quality(range(50), range(10)) == 0.5\n",
        "assert results_quality(range(50), range(30)) == 0.857\n",
        "assert results_quality(range(50), [-1]*5 + list(range(5,30))) == 0.0\n"
      ],
      "metadata": {
        "id": "geHKyFB4xkBe"
      },
      "execution_count": 10,
      "outputs": []
    },
    {
      "cell_type": "code",
      "source": [
        "from time import time as current_time  # Rename the time variable\n",
        "import requests\n",
        "\n",
        "url = 'https://api.ngrok.com/reserved_domains/rd_2dKKBcXh0yNuhkFPROUvdYUUE8c'\n",
        "\n",
        "# Set up 10-fold cross-validation\n",
        "# Set up 10-fold cross-validation\n",
        "num_folds = 10\n",
        "kf = KFold(n_splits=num_folds, shuffle=True, random_state=42)\n",
        "\n",
        "# Initialize a list to store the metrics for each fold\n",
        "fold_metrics = []\n",
        "\n",
        "# Iterate through the folds\n",
        "for fold, (train_index, test_index) in enumerate(kf.split(queries)):\n",
        "    train_queries = [list(queries.keys())[i] for i in train_index]\n",
        "    test_queries = [list(queries.keys())[i] for i in test_index]\n",
        "\n",
        "    # Your training code here (if needed)\n",
        "\n",
        "    # Your testing code here\n",
        "    fold_results = []\n",
        "    for q in test_queries:\n",
        "        duration, rq = None, None\n",
        "        t_start = current_time()\n",
        "        try:\n",
        "            res = requests.get(url + '/search', {'query': q}, timeout=35)\n",
        "            duration = current_time() - t_start\n",
        "            if res.status_code == 200:\n",
        "                pred_wids, _ = zip(*res.json())\n",
        "\n",
        "                # For this scenario, just print the retrieved document IDs without comparison\n",
        "                print(f\"Query: {q}, Retrieved Document IDs: {pred_wids}\")\n",
        "\n",
        "                # You can still calculate and store other metrics if needed\n",
        "                # Calculate metrics for the current query using true_wids and pred_wids\n",
        "                precision = precision_at_k(true_wids, pred_wids, 5)\n",
        "                recall = recall_at_k(true_wids, pred_wids, 5)\n",
        "                f1 = f1_at_k(true_wids, pred_wids, 5)\n",
        "                quality = results_quality(true_wids, pred_wids)\n",
        "                fold_results.append({'query': q, 'duration': duration, 'precision': precision, 'recall': recall, 'f1': f1, 'quality': quality})\n",
        "        except Exception as e:\n",
        "            print(f\"Error processing query '{q}' in Fold {fold + 1}: {e}\")\n",
        "\n",
        "    fold_metrics.append(fold_results)\n",
        "\n",
        "# Save the metrics for each fold to a dictionary\n",
        "metrics_dict = {f\"Fold {i + 1}\": fold_results for i, fold_results in enumerate(fold_metrics)}\n",
        "\n",
        "# Print the metrics for each fold\n",
        "for fold, metrics in metrics_dict.items():\n",
        "    print(f\"\\n{fold} Metrics:\")\n",
        "    for query_metrics in metrics:\n",
        "        print(f\"  Query: {query_metrics['query']}, Duration: {query_metrics['duration']}s, Metrics: {query_metrics}\")\n",
        "\n",
        "# Calculate and print the average metrics across all folds\n",
        "average_metrics = {}\n",
        "for metric_name in ['precision', 'recall', 'f1', 'quality']:\n",
        "    metric_values = [query_metrics[metric_name] for fold_results in metrics_dict.values() for query_metrics in fold_results]\n",
        "\n",
        "    # Check if the metric_values list is empty\n",
        "    if len(metric_values) > 0:\n",
        "        average_metric_value = sum(metric_values) / len(metric_values)\n",
        "    else:\n",
        "        average_metric_value = 0.0\n",
        "\n",
        "    average_metrics[metric_name] = average_metric_value\n",
        "\n",
        "print(\"\\nAverage Metrics Across Folds:\")\n",
        "for metric_name, value in average_metrics.items():\n",
        "    print(f\"  {metric_name.capitalize()}: {value}\")"
      ],
      "metadata": {
        "colab": {
          "base_uri": "https://localhost:8080/"
        },
        "id": "yLH8ABH-Diwa",
        "outputId": "edac8db8-ed5d-4772-cdd1-475a953954db"
      },
      "execution_count": 11,
      "outputs": [
        {
          "output_type": "stream",
          "name": "stdout",
          "text": [
            "\n",
            "Fold 1 Metrics:\n",
            "\n",
            "Fold 2 Metrics:\n",
            "\n",
            "Fold 3 Metrics:\n",
            "\n",
            "Fold 4 Metrics:\n",
            "\n",
            "Fold 5 Metrics:\n",
            "\n",
            "Fold 6 Metrics:\n",
            "\n",
            "Fold 7 Metrics:\n",
            "\n",
            "Fold 8 Metrics:\n",
            "\n",
            "Fold 9 Metrics:\n",
            "\n",
            "Fold 10 Metrics:\n",
            "\n",
            "Average Metrics Across Folds:\n",
            "  Precision: 0.0\n",
            "  Recall: 0.0\n",
            "  F1: 0.0\n",
            "  Quality: 0.0\n"
          ]
        }
      ]
    },
    {
      "cell_type": "code",
      "source": [
        "print(queries)"
      ],
      "metadata": {
        "colab": {
          "base_uri": "https://localhost:8080/"
        },
        "id": "uA2etQoBMCD4",
        "outputId": "e06ff46f-6a17-464f-a194-9479144c87b6"
      },
      "execution_count": 14,
      "outputs": [
        {
          "output_type": "stream",
          "name": "stdout",
          "text": [
            "{'genetics': ['12266', '8406655', '1590357', '4250553', '339838', '7955', '219268', '19595', '12383', '12385', '1763082', '159266', '274192', '3464219', '12562', '22249817', '418605', '6438', '14235691', '24235330', '1483646', '38203371', '403627', '12437', '30860403', '13457', '12388', '12796', '68300', '310782', '2839975', '1911', '19702', '4087965', '364423', '9737', '583438', '155624', '72016', '49033', '155192', '4816754', '480107', '604020', '158005', '9236'], 'Who is considered the \"Father of the United States\"?': ['540802', '519482', '260899', '21816397', '223202', '15124855', '261175', '1226966', '432330', '193877', '260870', '547346', '230108', '75958', '1149544', '93561', '260875', '233146', '2057489', '560404', '24905', '260898', '105892', '31171', '260873', '573097', '260910', '51591978', '261172', '427815', '261170', '21828607', '10133', '1337709', '261187', '25068298', '559128', '261182', '230337', '33299', '261168', '261185', '1943659', '27057637', '261178', '266907', '242102', '1201169', '152055', '261186'], 'economic': ['9223', '6639133', '692262', '148131', '69415', '380845', '370432', '23573352', '5416', '32022', '45633', '25382', '19280607', '57349', '48852', '788900', '638834', '4095185', '503119', '10517', '241232', '6801189', '17326', '19283335', '12083679', '1352048', '38289', '12594', '181293', '9942688', '216664', '7843', '2061965', '72529', '210522', '177512', '46044', '227630', '139993', '19284336', '3484684', '916345', '19337279', '2236116', '33853117', '172185', '411315', '19804420', '50145', '177698'], 'When was the United Nations founded?': ['31769', '1157540', '88805', '188955', '9300546', '31969', '31957', '1341065', '335057', '216034', '8334078', '31956', '54111479', '47955040', '24644042', '37107', '479389', '3218829', '3424435', '6480536', '856769', '17926', '12029262', '36587', '50883', '3054918', '640822', '325572', '32315', '2157983', '32268', '24650013', '2959252', '565612', '31899', '32178', '82256', '31958', '19698110', '635790', '31904', '36480350', '162410', '31959', '1157544', '1406618'], 'video gaming': ['5363', '32401', '564204', '372478', '32629', '64483771', '182053', '4373654', '10918530', '2538794', '41011935', '356777', '8052761', '41568624', '44542278', '31669618', '16000063', '11762000', '565944', '41773358', '598395', '67378620', '700265', '19992532', '25395149', '490610', '43758363', '26757970', '1617333', '474398', '1336512', '61909134', '2292497', '46666400', '14199', '38062234', '7763396', '19220448', '170581', '32399', '485939', '1910313', '17166020', '3382456', '13392949', '2742821'], '3D printing technology': ['1305947', '53292993', '53292889', '38673321', '1086236', '62452729', '62443231', '44215035', '45719282', '35742703', '31260053', '53844351', '3160379', '4234010', '62313405', '43643043', '41615704', '52904006', '56543723', '29017963', '1993025', '48160815', '62442607', '63513865', '19653871', '58490571', '19986879', '67944537', '43351996', '66703721', '38430022', '23760854', '53527471', '841755', '58504805', '35194697', '28971287', '24497031', '43475529', '44858650', '44314961', '40891179', '26610144', '43912217'], 'Who is the author of \"1984\"?': ['23454753', '11891', '19245926', '4261', '14254136', '22281825', '6069806', '61174690', '683456', '65016998', '2360464', '190220', '53626279', '19559447', '19389306', '155736', '279716', '46265278', '620', '65257079', '80562', '15302849', '15927', '20781912', '23008930', '36681', '842197', '234555', '38114', '24713721', '1978747', '1685538', '1483304', '3287555', '21725', '1942881', '1151272', '28927061', '25059564', '1895332', '3434631', '152265', '2775435', '30761'], 'bioinformatics': ['4214', '363695', '53970843', '24738960', '235550', '37670240', '475160', '149289', '22155527', '38542005', '917460', '10221795', '41282920', '58885019', '14673667', '2056296', '8634376', '25474825', '24393120'], 'Who is known for proposing the heliocentric model of the solar system?': ['244588', '8837050', '2748665', '323592', '74857', '3362809', '60325936', '35223708', '7327', '83754', '1028515', '276857', '29688374', '252372', '19327051', '62137449', '30027', '15736', '25998318', '50650', '18352021', '17553', '17052696', '12963', '31880', '14021', '10385519', '60549', '58939', '3194945', '628083', '2639335', '659190', '878461', '1864889', '206542', '4536514', '13758', '14400', '383129', '4385475', '899973', '143608', '208656', '26700'], 'Describe the process of water erosion.': ['9696', '4372011', '59416', '11397380', '149261', '4400374', '5077608', '2818161', '1157585', '643020', '26277662', '15841377', '949526', '3882879', '6319149', '200167', '439282', '4895120', '72585', '5573115', '49012757', '8113846', '37755119', '3159833', '3198788', '17110306', '286837', '67251594', '78481', '47741580', '52921836', '21950720', '273997', '60343', '40548511', '1018637', '6025205', '4132010', '307279', '13440971', '186193', '7999492', '69442', '13435', '54840', '406430', '56462624', '33306'], 'When was the Berlin Wall constructed?': ['3722', '61917089', '33170', '29696068', '9483', '18360765', '200989', '53816420', '849186', '30257891', '32842267', '24815929', '156604', '5072312', '13058', '24790125', '24597', '2697626', '24806372', '54286150', '5261273', '18953051', '370681', '716962', '40035819', '48322587', '38347242', '3354', '24448273', '5155986', '75251', '48217040', '261678', '61103', '36501294', '67325752', '27599353', '24813045', '242099', '900258', '14061140', '947625', '898673', '8925150', '44353520', '36939655', '21936384', '2511', '58548'], 'What is the meaning of the term \"Habeas Corpus\"?': ['14091', '8758045', '1123587', '3972844', '23693473', '9893745', '12012887', '32164513', '27348709', '47898402', '43030290', '25590696', '10011240', '8613452', '11660500', '37423356', '1043779', '10133224', '600901', '1378513', '50229592', '10715952', '15629894', '25584694', '1352158', '16751609', '55207856', '158492', '26565511', '13399040', '627536', '2890244', '1123174', '31646', '23545213', '7201014', '146275', '37064', '14649174', '146274', '22957370', '1713578', '36733574', '40359', '642925', '62723245', '551210', '2090028', '38867'], 'telecommunications': ['33094374', '46545', '928324', '7531293', '620113', '27452465', '41782', '1145887', '30003', '53738', '3276921', '19752979', '8774050', '12808', '2112491', '45207', '17912042', '1338556', '196010', '21347591', '26668156', '4094802', '14836', '47005', '18619278', '66040'], 'internet': ['14539', '13692', '300602', '33789688', '100245', '15323', '12057519', '15215', '63973', '3686796', '48402', '15172', '33139', '147184', '176931', '15285', '19776474', '827154', '15476', '17885119', '14742', '1088227', '856845', '429909', '294813', '11207736', '1569607', '14594', '84022', '14730', '1616492', '769088', '15236', '15734720', '203466', '396223', '41173164', '597727', '11056386', '1398166', '286013', '11357820'], 'What are the characteristics of a chemical element?': ['5659', '2152181', '23053', '9722260', '5180', '42209150', '86350', '199079', '619795', '7043', '21347411', '902', '901', '181556', '673', '77473', '13884326', '18899', '86347', '30047', '85425', '19916', '9478', '9479', '13466', '3756', '30043', '77474', '19042', '60088', '896', '13764', '27117', '13255', '27116', '2231059', '10624594', '13256', '67611', '14750', '5667', '30042', '62200', '12242', '102193', '30046', '6271', '68326', '23055', '19600416'], 'Describe the structure of a plant cell.': ['23977', '6312', '13932032', '6355', '32347', '4230', '33051527', '2049869', '22393', '2959657', '1814677', '5184', '7555884', '5106530', '5134478', '6235', '483108', '18952693', '32572', '227682', '9775', '6227883', '6781', '103915', '21958', '46675', '61899', '9927', '7556348', '14464979', '18973622', '156970', '153522', '656613', '24544', '6911', '200182', '21514323', '6339', '20639545', '19828134', '32624519', '19588', '24536543', '25766', '747128', '21076226', '2784383', '102858'], 'Who painted \"Starry Night\"?': ['1115370', '1878689', '32603', '62143846', '1883522', '43603948', '32520576', '7529015', '31591527', '4185877', '6176363', '34490285', '17471799', '66797719', '1352611', '9779', '36809948', '11064758', '6249860', '31298340', '34933345', '745523', '2686178', '20050190', '1480900', '49600865', '9988530', '31625863', '45567743', '6337562', '58987216', '27773473', '63051424'], 'computer': ['7878457', '18457137', '5323', '21808348', '7677', '5783', '198584', '249402', '375416', '6596', '18994196', '3833695', '5311', '50408', '4122592', '25652303', '2428', '5300', '3879451', '7056', '5213', '20266', '4182449', '22194', '6806', '7398', '7077', '25122906', '37153', '18567210', '5309', '25220', '31626763', '68181', '18890', '6010', '64750', '23534602', '37315', '323392', '54427', '23659805', '81196', '328784', '194424', '10429990'], \"What is the structure of the Earth's layers?\": ['1417149', '1705831', '2939202', '1079771', '9228', '146249', '59623952', '5593595', '45241275', '145716', '145700', '61044116', '145717', '1079866', '202898', '673768', '1589335', '1431559', '24944', '202899', '78490', '981252', '3406503', '47460', '41077022', '494100', '864017', '59601438', '673743', '58614271', '5555728', '47454', '11107751', '41822', '145813', '375826', '8307722', '15097', '254452', '54962', '11603215', '2068726', '7604906', '44412'], 'When did World War II end?': ['32927', '360422', '16555042', '34624', '215257', '390508', '16554434', '1880615', '2198844', '11237483', '1393850', '4653534', '16554523', '16554637', '142735', '16554947', '21212', '16554732', '14471451', '1373357', '40705030', '2395137', '16554826', '6513604', '519489', '342641', '1285991', '365519', '261678', '291145', '21619085', '519516', '4008941', '87995', '20854645', '765642', '7062377', '240900', '900011', '202102', '350111', '493696', '64507858', '342640', '228080', '1467679', '1168996', '42685705', '39743540', '637072'], 'When was the Gutenberg printing press invented?': ['23295', '15745', '7695885', '11012076', '47300', '255041', '44723', '286327', '18723', '662134', '1591936', '23036', '5843862', '20218892', '3277654', '142743', '7643744', '275989', '33040421', '36707999', '11502064', '67033930', '21436856', '16688458', '21499093', '14029854', '3672187', '28679509', '35746798', '43577463', '3626755', '1041702', '7458233', '24171677', '1857103', '1619933', '23301', '269903', '52677530', '67548191', '23487645', '12798398', '42438345', '4688539', '25739212', '666391'], 'medicine': ['18957', '180121', '428966', '1580383', '14194', '9311172', '3172179', '293885', '205264', '10013', '1845', '23315', '52502', '381552', '457857', '5827094', '310484', '52671', '12039054', '13486', '304263', '212698', '236674', '439973', '5992', '199884', '1032780', '1479393', '261925', '1656748', '431259', '2285007', '1043627', '408290', '1119701', '3552463', '52974', '347838', '175440', '2106879', '2584146', '299014', '32654', '2245783', '2652481'], 'Describe the water cycle.': ['200167', '59586681', '13435', '33306', '67695754', '23972610', '398638', '4638936', '1858623', '47521', '89547', '78481', '145753', '56024424', '7995309', '5565588', '4687085', '18952860', '4400374', '10303', '62557527', '19009110', '286260', '922554', '18581463', '6262231', '4446652', '3159833', '18842359', '2465480', '18842395', '4224324', '18077896', '262927', '316612', '28191', '17673401', '2880847', '18842323', '18842308', '47503', '30718', '14946', '102024', '5095558', '11717197', '1715797'], 'artificial intelligence': ['1164', '142224', '2894560', '15893057', '52588198', '6585513', '54245', '21523', '586357', '50336055', '566680', '48795986', '60639760', '41755648', '5841092', '233488', '726659', '16598232', '1654769', '813176', '2958015', '12413470', '308362', '54575571', '54008163', '21391751', '13659583', '339417', '32472154', '22264262', '63451675', '11746227', '59539440', '19639', '3548574', '41873354', '534794', '63225340', '2846', '15874732', '46583121', '434274', '7872324'], 'physics': ['22939', '22688097', '13758', '19594028', '24489', '5387', '1692795', '102847', '24236', '23269', '26998617', '844186', '149861', '52497', '151066', '21285', '173416', '740540', '25916521', '25202', '23259', '19595664', '2641938', '950012', '36626070', '183089', '2796131', '685311', '1200', '312881', '278366', '4063091', '10279126', '18698687', '1506216', '106418', '405493', '168907', '4769321', '358381', '19679192', '1453385', '2711029', '123450', '25523', '736'], 'nanotechnology': ['21488', '7064233', '38324933', '21514', '19637', '14431229', '1006597', '1234517', '2154572', '868108', '60011838', '60786392', '26901564', '28054293', '32249901', '7067473', '2104510', '31746484', '21561', '6736363', '10004859', '63399479', '8674917', '7200558', '905278', '8327305', '19079770', '16065393', '20234388', '1032221', '10209776', '336994', '175996', '64485122', '55566398', '5320', '63888621', '18069384', '56007469', '9548739', '4647936', '3602968', '33661741', '30380229', '19486733', '44158633', '7075936'], 'When did the Black Death pandemic occur?': ['4501', '16392927', '20993417', '33390780', '20155274', '63929030', '1543486', '4807194', '12286', '945818', '63928828', '33390747', '63929142', '55743836', '36692538', '20155412', '4746', '63956954', '548536', '17503394', '54426991', '1930322', '68025111', '63958425', '35316091', '63956701', '24255', '3573933', '60502984', '986', '1923607', '66291781', '63377663', '5871318', '63382758', '845862', '1777327', '34367', '66426779', '68082858', '63360170', '71054', '19937260', '63365925', '55586589', '529280', '63411128'], 'neuroscience': ['21245', '50326', '665536', '277956', '1305044', '58361969', '4794482', '271430', '605477', '20515023', '2640086', '21226', '1948637', '3354877', '1555376', '26081918', '3839716', '25049383', '59255005', '5212945', '24646984', '1822196', '25935238', '36563803', '12101207', '2208074', '3811045', '762064', '44135823', '42003951', '17935654', '25225295', '59161036', '542377', '34095626', '515094', '16264786', '20848680', '26565579', '47403822', '703002', '47095270', '3975854', '1937595', '1391133', '25829369', '27024757'], 'snowboard': ['38957', '28262', '25855820', '13006860', '25189611', '2382902', '5882291', '39129987', '175281', '18251011', '21219884', '12808675', '4170732', '3971307', '1173744', '47808636'], 'Who is the founder of modern psychology?': ['1573230', '34128', '90682', '3129664', '26743', '912656', '22921', '42031', '91452', '203499', '981440', '27092290', '12385964', '1976138', '81590', '23663950', '4868', '199877', '5507074', '36921977', '237253', '61705026', '364299', '95274', '518927', '23572093', '2405481', '13647', '31711387', '42037', '23585', '326313', '301882', '13512823', '84864', '9014', '70402', '317501', '4419426', '324180', '448370', '25306680', '20927655', '41358018', '932831', '3959877', '37205195', '248799', '58741718']}\n"
          ]
        }
      ]
    },
    {
      "cell_type": "code",
      "source": [
        "import requests\n",
        "from time import time\n",
        "# url = 'http://35.232.59.3:8080'\n",
        "# place the domain you got from ngrok or GCP IP below.\n",
        "url = 'https://api.ngrok.com/reserved_domains/rd_2dKKBcXh0yNuhkFPROUvdYUUE8c'\n",
        "\n",
        "qs_res = []\n",
        "for q, true_wids in queries.items():\n",
        "  duration, ap = None, None\n",
        "  t_start = time()\n",
        "  try:\n",
        "    res = requests.get(url + '/search', {'query': q}, timeout=35)\n",
        "    duration = time() - t_start\n",
        "    if res.status_code == 200:\n",
        "      pred_wids, _ = zip(*res.json())\n",
        "      rq = results_quality(true_wids, pred_wids)\n",
        "    # qs_res.append((q, duration, rq))\n",
        "  except:\n",
        "    pass\n",
        "\n",
        "  qs_res.append((q, duration, rq))"
      ],
      "metadata": {
        "id": "dYmNTq9u0ChK"
      },
      "execution_count": 12,
      "outputs": []
    },
    {
      "cell_type": "code",
      "source": [
        "qs_res"
      ],
      "metadata": {
        "colab": {
          "base_uri": "https://localhost:8080/"
        },
        "id": "2YfUvcqvNyUe",
        "outputId": "9ce132e4-21d1-4a68-fab5-1a22680b56fd"
      },
      "execution_count": 13,
      "outputs": [
        {
          "output_type": "execute_result",
          "data": {
            "text/plain": [
              "[('genetics', 0.23963332176208496, None),\n",
              " ('Who is considered the \"Father of the United States\"?',\n",
              "  0.24289894104003906,\n",
              "  None),\n",
              " ('economic', 0.24315190315246582, None),\n",
              " ('When was the United Nations founded?', 0.23127436637878418, None),\n",
              " ('video gaming', 0.2460782527923584, None),\n",
              " ('3D printing technology', 0.1978447437286377, None),\n",
              " ('Who is the author of \"1984\"?', 0.17957615852355957, None),\n",
              " ('bioinformatics', 0.19312620162963867, None),\n",
              " ('Who is known for proposing the heliocentric model of the solar system?',\n",
              "  0.19271063804626465,\n",
              "  None),\n",
              " ('Describe the process of water erosion.', 0.19542837142944336, None),\n",
              " ('When was the Berlin Wall constructed?', 0.19388914108276367, None),\n",
              " ('What is the meaning of the term \"Habeas Corpus\"?',\n",
              "  0.2000141143798828,\n",
              "  None),\n",
              " ('telecommunications', 0.19881033897399902, None),\n",
              " ('internet', 0.1965785026550293, None),\n",
              " ('What are the characteristics of a chemical element?',\n",
              "  0.20756125450134277,\n",
              "  None),\n",
              " ('Describe the structure of a plant cell.', 0.19567370414733887, None),\n",
              " ('Who painted \"Starry Night\"?', 0.18052124977111816, None),\n",
              " ('computer', 0.20232653617858887, None),\n",
              " (\"What is the structure of the Earth's layers?\", 0.19995713233947754, None),\n",
              " ('When did World War II end?', 0.20419931411743164, None),\n",
              " ('When was the Gutenberg printing press invented?', 0.191650390625, None),\n",
              " ('medicine', 0.19816851615905762, None),\n",
              " ('Describe the water cycle.', 0.20580554008483887, None),\n",
              " ('artificial intelligence', 0.1955094337463379, None),\n",
              " ('physics', 0.1990525722503662, None),\n",
              " ('nanotechnology', 0.1976468563079834, None),\n",
              " ('When did the Black Death pandemic occur?', 0.20153570175170898, None),\n",
              " ('neuroscience', 0.1954805850982666, None),\n",
              " ('snowboard', 0.19381260871887207, None),\n",
              " ('Who is the founder of modern psychology?', 0.20147180557250977, None)]"
            ]
          },
          "metadata": {},
          "execution_count": 13
        }
      ]
    }
  ]
}